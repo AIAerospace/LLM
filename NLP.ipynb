{
 "cells": [
  {
   "cell_type": "markdown",
   "metadata": {},
   "source": [
    "### NLP a la vieja usanza\n",
    "\n",
    "Cargamos el dataset. Contiene textos escritos por tres autores diferentes de la misma época y estilo literario:\n",
    "\n",
    "* Edgar Alan Poe (EAP)\n",
    "* H.P. Lovecraft (HPL)\n",
    "* Mary Shelley (MWS)\n",
    "\n",
    "El objetivo es entrenar un modelo que se capaz de reconocer entre estos tres el autor de un texto"
   ]
  },
  {
   "cell_type": "code",
   "execution_count": 1,
   "metadata": {},
   "outputs": [
    {
     "data": {
      "text/html": [
       "<div>\n",
       "<style scoped>\n",
       "    .dataframe tbody tr th:only-of-type {\n",
       "        vertical-align: middle;\n",
       "    }\n",
       "\n",
       "    .dataframe tbody tr th {\n",
       "        vertical-align: top;\n",
       "    }\n",
       "\n",
       "    .dataframe thead th {\n",
       "        text-align: right;\n",
       "    }\n",
       "</style>\n",
       "<table border=\"1\" class=\"dataframe\">\n",
       "  <thead>\n",
       "    <tr style=\"text-align: right;\">\n",
       "      <th></th>\n",
       "      <th>id</th>\n",
       "      <th>text</th>\n",
       "      <th>author</th>\n",
       "    </tr>\n",
       "  </thead>\n",
       "  <tbody>\n",
       "    <tr>\n",
       "      <th>0</th>\n",
       "      <td>id26305</td>\n",
       "      <td>This process, however, afforded me no means of...</td>\n",
       "      <td>EAP</td>\n",
       "    </tr>\n",
       "    <tr>\n",
       "      <th>1</th>\n",
       "      <td>id17569</td>\n",
       "      <td>It never once occurred to me that the fumbling...</td>\n",
       "      <td>HPL</td>\n",
       "    </tr>\n",
       "    <tr>\n",
       "      <th>2</th>\n",
       "      <td>id11008</td>\n",
       "      <td>In his left hand was a gold snuff box, from wh...</td>\n",
       "      <td>EAP</td>\n",
       "    </tr>\n",
       "    <tr>\n",
       "      <th>3</th>\n",
       "      <td>id27763</td>\n",
       "      <td>How lovely is spring As we looked from Windsor...</td>\n",
       "      <td>MWS</td>\n",
       "    </tr>\n",
       "    <tr>\n",
       "      <th>4</th>\n",
       "      <td>id12958</td>\n",
       "      <td>Finding nothing else, not even gold, the Super...</td>\n",
       "      <td>HPL</td>\n",
       "    </tr>\n",
       "  </tbody>\n",
       "</table>\n",
       "</div>"
      ],
      "text/plain": [
       "        id                                               text author\n",
       "0  id26305  This process, however, afforded me no means of...    EAP\n",
       "1  id17569  It never once occurred to me that the fumbling...    HPL\n",
       "2  id11008  In his left hand was a gold snuff box, from wh...    EAP\n",
       "3  id27763  How lovely is spring As we looked from Windsor...    MWS\n",
       "4  id12958  Finding nothing else, not even gold, the Super...    HPL"
      ]
     },
     "execution_count": 1,
     "metadata": {},
     "output_type": "execute_result"
    }
   ],
   "source": [
    "import pandas as pd\n",
    "train = pd.read_csv(\"Data/train.csv\")\n",
    "test = pd.read_csv(\"Data/test.csv\")\n",
    "train.head()"
   ]
  },
  {
   "cell_type": "code",
   "execution_count": 5,
   "metadata": {},
   "outputs": [
    {
     "name": "stdout",
     "output_type": "stream",
     "text": [
      "(19579, 3)\n",
      "(8392, 2)\n",
      "author\n",
      "EAP    7900\n",
      "MWS    6044\n",
      "HPL    5635\n",
      "Name: count, dtype: int64\n"
     ]
    }
   ],
   "source": [
    "print(train.shape)\n",
    "print(test.shape)\n",
    "print(train['author'].value_counts())"
   ]
  },
  {
   "cell_type": "markdown",
   "metadata": {},
   "source": [
    "### Tokenizar"
   ]
  },
  {
   "cell_type": "code",
   "execution_count": 9,
   "metadata": {},
   "outputs": [],
   "source": [
    "from sklearn.feature_extraction.text import TfidfVectorizer,CountVectorizer\n",
    "\n",
    "corpus = [\n",
    "          'María tenía un corderito blanco como la nieve',\n",
    "          'Los tipos que fuman puro tienen cara de canguro',\n",
    "          'Nunca vi a un corderito fumar en puro',\n",
    "          'La nieve es blanca y suave',\n",
    " ]\n",
    "\n",
    "vectorizer = TfidfVectorizer()\n",
    "vectorizer2 = CountVectorizer()\n",
    "\n",
    "# TD-IDF Matrix\n",
    "X = vectorizer.fit_transform(corpus)\n",
    "X2 = vectorizer2.fit_transform(corpus)\n",
    "\n",
    "# extracting feature names\n",
    "tfidf_tokens = vectorizer.get_feature_names_out()\n"
   ]
  },
  {
   "cell_type": "code",
   "execution_count": 10,
   "metadata": {},
   "outputs": [
    {
     "data": {
      "text/plain": [
       "array([[0, 1, 0, 0, 1, 1, 0, 0, 0, 0, 0, 1, 0, 1, 1, 0, 0, 0, 0, 1, 0, 0,\n",
       "        1, 0],\n",
       "       [0, 0, 1, 1, 0, 0, 1, 0, 0, 1, 0, 0, 1, 0, 0, 0, 1, 1, 0, 0, 1, 1,\n",
       "        0, 0],\n",
       "       [0, 0, 0, 0, 0, 1, 0, 1, 0, 0, 1, 0, 0, 0, 0, 1, 1, 0, 0, 0, 0, 0,\n",
       "        1, 1],\n",
       "       [1, 0, 0, 0, 0, 0, 0, 0, 1, 0, 0, 1, 0, 0, 1, 0, 0, 0, 1, 0, 0, 0,\n",
       "        0, 0]])"
      ]
     },
     "execution_count": 10,
     "metadata": {},
     "output_type": "execute_result"
    }
   ],
   "source": [
    "X2.toarray()"
   ]
  },
  {
   "cell_type": "code",
   "execution_count": 11,
   "metadata": {},
   "outputs": [
    {
     "data": {
      "text/plain": [
       "array([[0.        , 0.39264414, 0.        , 0.        , 0.39264414,\n",
       "        0.30956515, 0.        , 0.        , 0.        , 0.        ,\n",
       "        0.        , 0.30956515, 0.        , 0.39264414, 0.30956515,\n",
       "        0.        , 0.        , 0.        , 0.        , 0.39264414,\n",
       "        0.        , 0.        , 0.30956515, 0.        ],\n",
       "       [0.        , 0.        , 0.34056989, 0.34056989, 0.        ,\n",
       "        0.        , 0.34056989, 0.        , 0.        , 0.34056989,\n",
       "        0.        , 0.        , 0.34056989, 0.        , 0.        ,\n",
       "        0.        , 0.26850921, 0.34056989, 0.        , 0.        ,\n",
       "        0.34056989, 0.34056989, 0.        , 0.        ],\n",
       "       [0.        , 0.        , 0.        , 0.        , 0.        ,\n",
       "        0.32555709, 0.        , 0.41292788, 0.        , 0.        ,\n",
       "        0.41292788, 0.        , 0.        , 0.        , 0.        ,\n",
       "        0.41292788, 0.32555709, 0.        , 0.        , 0.        ,\n",
       "        0.        , 0.        , 0.32555709, 0.41292788],\n",
       "       [0.48546061, 0.        , 0.        , 0.        , 0.        ,\n",
       "        0.        , 0.        , 0.        , 0.48546061, 0.        ,\n",
       "        0.        , 0.38274272, 0.        , 0.        , 0.38274272,\n",
       "        0.        , 0.        , 0.        , 0.48546061, 0.        ,\n",
       "        0.        , 0.        , 0.        , 0.        ]])"
      ]
     },
     "execution_count": 11,
     "metadata": {},
     "output_type": "execute_result"
    }
   ],
   "source": [
    "X.toarray()"
   ]
  },
  {
   "cell_type": "code",
   "execution_count": 12,
   "metadata": {},
   "outputs": [
    {
     "data": {
      "text/plain": [
       "array(['blanca', 'blanco', 'canguro', 'cara', 'como', 'corderito', 'de',\n",
       "       'en', 'es', 'fuman', 'fumar', 'la', 'los', 'maría', 'nieve',\n",
       "       'nunca', 'puro', 'que', 'suave', 'tenía', 'tienen', 'tipos', 'un',\n",
       "       'vi'], dtype=object)"
      ]
     },
     "execution_count": 12,
     "metadata": {},
     "output_type": "execute_result"
    }
   ],
   "source": [
    "tfidf_tokens"
   ]
  },
  {
   "cell_type": "code",
   "execution_count": null,
   "metadata": {},
   "outputs": [],
   "source": []
  }
 ],
 "metadata": {
  "kernelspec": {
   "display_name": "deepl",
   "language": "python",
   "name": "python3"
  },
  "language_info": {
   "codemirror_mode": {
    "name": "ipython",
    "version": 3
   },
   "file_extension": ".py",
   "mimetype": "text/x-python",
   "name": "python",
   "nbconvert_exporter": "python",
   "pygments_lexer": "ipython3",
   "version": "3.13.1"
  }
 },
 "nbformat": 4,
 "nbformat_minor": 2
}
