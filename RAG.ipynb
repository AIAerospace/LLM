{
 "cells": [
  {
   "cell_type": "markdown",
   "metadata": {},
   "source": [
    "# RAG"
   ]
  },
  {
   "cell_type": "code",
   "execution_count": 3,
   "metadata": {},
   "outputs": [
    {
     "ename": "",
     "evalue": "",
     "output_type": "error",
     "traceback": [
      "\u001b[1;31mEl kernel se bloqueó al ejecutar código en la celda actual o en una celda anterior. \n",
      "\u001b[1;31mRevise el código de las celdas para identificar una posible causa del error. \n",
      "\u001b[1;31mHaga clic <a href='https://aka.ms/vscodeJupyterKernelCrash'>aquí</a> para obtener más información. \n",
      "\u001b[1;31mVea Jupyter <a href='command:jupyter.viewOutput'>log</a> para obtener más detalles."
     ]
    }
   ],
   "source": [
    "# Importar dependencias\n",
    "import os\n",
    "import openai\n",
    "from langchain.document_loaders import PyPDFLoader\n",
    "from langchain.text_splitter import RecursiveCharacterTextSplitter\n",
    "# from langchain.embeddings import OpenAIEmbeddings\n",
    "#from langchain.vectorstores import FAISS\n",
    "from langchain.chat_models import ChatOpenAI\n",
    "from langchain.chains import ConversationalRetrievalChain\n",
    "\n",
    "#openai.api_key = os.getenv(\"OPENAI_API_KEY\")\n"
   ]
  },
  {
   "cell_type": "code",
   "execution_count": null,
   "metadata": {},
   "outputs": [
    {
     "ename": "",
     "evalue": "",
     "output_type": "error",
     "traceback": [
      "\u001b[1;31mEl kernel se bloqueó al ejecutar código en la celda actual o en una celda anterior. \n",
      "\u001b[1;31mRevise el código de las celdas para identificar una posible causa del error. \n",
      "\u001b[1;31mHaga clic <a href='https://aka.ms/vscodeJupyterKernelCrash'>aquí</a> para obtener más información. \n",
      "\u001b[1;31mVea Jupyter <a href='command:jupyter.viewOutput'>log</a> para obtener más detalles."
     ]
    }
   ],
   "source": [
    "# Importar dependencias\n",
    "import os\n",
    "from langchain.document_loaders import PyPDFLoader\n",
    "from langchain.text_splitter import RecursiveCharacterTextSplitter\n",
    "from langchain.embeddings import OpenAIEmbeddings\n",
    "from langchain.vectorstores import FAISS\n",
    "from langchain.chat_models import ChatOpenAI\n",
    "from langchain.chains import ConversationalRetrievalChain\n",
    "\n",
    "\n",
    "\n",
    "# Paso 1: Cargar el documento PDF\n",
    "loader = PyPDFLoader(\"documento.pdf\")  # Cambia \"documento.pdf\" por tu archivo PDF\n",
    "pages = loader.load_and_split()\n",
    "\n",
    "# Paso 2: Dividir el contenido en trozos manejables (chunks)\n",
    "text_splitter = RecursiveCharacterTextSplitter(chunk_size=1000, chunk_overlap=100)\n",
    "documents = text_splitter.split_documents(pages)\n",
    "\n",
    "# Paso 3: Crear embeddings y almacenar en FAISS (vector store)\n",
    "embeddings = OpenAIEmbeddings()\n",
    "vectorstore = FAISS.from_documents(documents, embeddings)\n",
    "\n",
    "# Paso 4: Crear la cadena de recuperación conversacional (RAG)\n",
    "qa_chain = ConversationalRetrievalChain.from_llm(\n",
    "    ChatOpenAI(model_name=\"gpt-3.5-turbo\", temperature=0),\n",
    "    vectorstore.as_retriever()\n",
    ")\n",
    "\n",
    "# Memoria para mantener el contexto de la conversación\n",
    "chat_history = []\n",
    "\n",
    "# Paso 5: Crear la interfaz interactiva para preguntas/respuestas\n",
    "print(\"Chatbot RAG listo. Pregunta sobre el documento (escribe 'salir' para finalizar).\")\n",
    "\n",
    "while True:\n",
    "    pregunta = input(\"\\nTu pregunta: \")\n",
    "    if pregunta.lower() in [\"salir\", \"exit\"]:\n",
    "        print(\"¡Hasta pronto!\")\n",
    "        break\n",
    "\n",
    "    # Genera la respuesta basada en el contenido del PDF\n",
    "    respuesta = qa_chain({\"question\": pregunta, \"chat_history\": chat_history})\n",
    "\n",
    "    # Mostrar respuesta\n",
    "    print(\"Respuesta:\", respuesta[\"answer\"])\n",
    "\n",
    "    # Actualizar historial\n",
    "    chat_history.append((pregunta, respuesta[\"answer\"]))\n"
   ]
  }
 ],
 "metadata": {
  "kernelspec": {
   "display_name": "deepl",
   "language": "python",
   "name": "python3"
  },
  "language_info": {
   "codemirror_mode": {
    "name": "ipython",
    "version": 3
   },
   "file_extension": ".py",
   "mimetype": "text/x-python",
   "name": "python",
   "nbconvert_exporter": "python",
   "pygments_lexer": "ipython3",
   "version": "3.13.2"
  }
 },
 "nbformat": 4,
 "nbformat_minor": 2
}
