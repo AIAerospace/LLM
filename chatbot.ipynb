{
 "cells": [
  {
   "cell_type": "markdown",
   "id": "a9183228-0ba6-4af9-8430-649e28868253",
   "metadata": {
    "id": "JMXGlIvAwn30"
   },
   "source": [
    "# OrderBot\n",
    "\n",
    "\n",
    "\n",
    "## Setup"
   ]
  },
  {
   "cell_type": "code",
   "execution_count": null,
   "id": "7fa0d9b5",
   "metadata": {
    "tags": []
   },
   "outputs": [],
   "source": [
    "from openai import OpenAI\n",
    "import textwrap\n",
    "import os\n",
    "import openai\n",
    "\n",
    "openai.api_key = os.getenv(\"OPENAI_API_KEY\")\n",
    "client = OpenAI()"
   ]
  },
  {
   "cell_type": "code",
   "execution_count": null,
   "id": "474b557c",
   "metadata": {
    "tags": []
   },
   "outputs": [],
   "source": [
    "contexto = [ {'role':'system', 'content':\"\"\"\n",
    "You are OrderBot, an automated service to collect orders for a pizza restaurant. \n",
    "You first greet the customer, then collects the order, \n",
    "and then asks if it's a pickup or delivery. \n",
    "You wait to collect the entire order, then summarize it and check for a final \n",
    "time if the customer wants to add anything else. \n",
    "If it's a delivery, you ask for an address. \n",
    "Finally you collect the payment.\n",
    "Make sure to clarify all options, extras and sizes to uniquely \n",
    "identify the item from the menu.\n",
    "You respond in a short, very conversational friendly style. \n",
    "The menu includes \n",
    "pepperoni pizza  12.95, 10.00, 7.00 \n",
    "cheese pizza   10.95, 9.25, 6.50 \n",
    "eggplant pizza   11.95, 9.75, 6.75 \n",
    "fries 4.50, 3.50 \n",
    "greek salad 7.25 \n",
    "Toppings: \n",
    "extra cheese 2.00, \n",
    "mushrooms 1.50 \n",
    "sausage 3.00 \n",
    "canadian bacon 3.50 \n",
    "AI sauce 1.50 \n",
    "peppers 1.00 \n",
    "Drinks: \n",
    "coke 3.00, 2.00, 1.00 \n",
    "sprite 3.00, 2.00, 1.00 \n",
    "bottled water 5.00 \n",
    "\"\"\"} ]  # accumulate messages\n",
    "\n",
    "\n"
   ]
  },
  {
   "cell_type": "code",
   "execution_count": null,
   "id": "a0ee11b9",
   "metadata": {},
   "outputs": [],
   "source": [
    "\n",
    "contexto.append(\n",
    "{'role':'system', 'content':'create a json summary of the previous food order. Itemize the price for each item\\\n",
    " The fields should be 1) pizza, include size 2) list of toppings 3) list of drinks, include size   4) list of sides include size  5)total price '},    \n",
    ")\n",
    " \n"
   ]
  },
  {
   "cell_type": "code",
   "execution_count": null,
   "id": "2cc84122",
   "metadata": {},
   "outputs": [],
   "source": [
    "# Lista para almacenar el historial de la conversación.\n",
    "conversation = contexto\n",
    "\n",
    "# Mensaje del sistema para establecer el contexto del chatbot.\n",
    "conversation.append({\n",
    "    \"role\": \"system\",\n",
    "    \"content\": \"Eres un asistente que acepta pedidos de clientes. Interactúa de manera amable, eficiente y profesional.\"\n",
    "})\n",
    "\n",
    "# Mensaje de bienvenida del asistente.\n",
    "welcome_message = \"Bienvenido a nuestro servicio de pedidos. ¿En qué puedo ayudarle hoy?\"\n",
    "print(\"Asistente:\", welcome_message)\n",
    "conversation.append({\n",
    "    \"role\": \"assistant\",\n",
    "    \"content\": welcome_message\n",
    "})\n",
    "\n",
    "# Bucle principal para mantener la conversación.\n",
    "while True:\n",
    "    # Espera la entrada del cliente.\n",
    "    user_input = input(\"Cliente: \")\n",
    "    \n",
    "    # Si el cliente decide salir, terminamos la conversación.\n",
    "    if user_input.lower() in [\"salir\", \"exit\"]:\n",
    "        farewell = \"Gracias por su visita. ¡Hasta luego!\"\n",
    "        print(\"Asistente:\", farewell)\n",
    "        conversation.append({\n",
    "            \"role\": \"assistant\",\n",
    "            \"content\": farewell\n",
    "        })\n",
    "        break\n",
    "\n",
    "    # Agrega el mensaje del cliente al historial.\n",
    "    conversation.append({\n",
    "        \"role\": \"user\",\n",
    "        \"content\": user_input\n",
    "    })\n",
    "\n",
    "    \n",
    "\n",
    "    response = client.responses.create(\n",
    "    model=\"gpt-4o-mini-2024-07-18\",\n",
    "    input=conversation\n",
    ")\n",
    "\n",
    "    # Extrae y muestra la respuesta del asistente.\n",
    "    assistant_reply = response.output_text\n",
    "    print(\"Asistente:\", assistant_reply)\n",
    "\n",
    "    # Agrega la respuesta del asistente al historial para futuras solicitudes.\n",
    "    conversation.append({\n",
    "        \"role\": \"assistant\",\n",
    "        \"content\": assistant_reply\n",
    "    })\n",
    "    # Asegurarse de que la conversación sea una lista plana de mensajes\n",
    "    if conversation and isinstance(conversation[0], list):\n",
    "        conversation = conversation[0] + conversation[1:]"
   ]
  }
 ],
 "metadata": {
  "kernelspec": {
   "display_name": "deepl",
   "language": "python",
   "name": "python3"
  },
  "language_info": {
   "codemirror_mode": {
    "name": "ipython",
    "version": 3
   },
   "file_extension": ".py",
   "mimetype": "text/x-python",
   "name": "python",
   "nbconvert_exporter": "python",
   "pygments_lexer": "ipython3",
   "version": "3.13.2"
  }
 },
 "nbformat": 4,
 "nbformat_minor": 5
}
