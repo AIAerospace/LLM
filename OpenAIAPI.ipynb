{
 "cells": [
  {
   "cell_type": "markdown",
   "id": "7ebe2e9d-685d-4ea3-ab7c-9589caaabff5",
   "metadata": {},
   "source": [
    "# OpenAI-API y Consejos sobre prompting\n"
   ]
  },
  {
   "cell_type": "markdown",
   "id": "a3acefa8-f8f1-4ef8-932e-9bcefa142666",
   "metadata": {},
   "source": [
    "Se puede utilizar el API con dos tipos de funciones:\n",
    "\n",
    "### Completions"
   ]
  },
  {
   "cell_type": "code",
   "execution_count": 1,
   "id": "79fdf920",
   "metadata": {},
   "outputs": [
    {
     "name": "stdout",
     "output_type": "stream",
     "text": [
      "Los modelos de lenguaje son sistemas de inteligencia artificial diseñados para\n",
      "entender, generar y manipular texto en lenguaje humano. Se basan en técnicas de\n",
      "aprendizaje automático, especialmente en redes neuronales profundas, que les\n",
      "permiten aprender patrones lingüísticos a partir de grandes volúmenes de datos\n",
      "textuales. Estos modelos, como GPT-3 y BERT, se utilizan en diversas\n",
      "aplicaciones, incluyendo chatbots, traducción automática, redacción de contenido\n",
      "y análisis de sentimientos. Su capacidad para generar texto coherente y\n",
      "contextualmente relevante ha revolucionado la interacción entre humanos y\n",
      "máquinas, aunque también plantea desafíos éticos y de sesgo que deben ser\n",
      "abordados.\n"
     ]
    }
   ],
   "source": [
    "from openai import OpenAI\n",
    "import textwrap\n",
    "import os\n",
    "import openai\n",
    "\n",
    "openai.api_key = os.getenv(\"OPENAI_API_KEY\")\n",
    "client = OpenAI()\n",
    "\n",
    "completion = client.chat.completions.create(\n",
    "    model=\"gpt-4o-mini-2024-07-18\",\n",
    "    messages=[{\n",
    "        \"role\": \"user\",\n",
    "        \"content\": \"Haz un resumen de 100 palabras sobre modelos de lenguaje\"\n",
    "    }]\n",
    ")\n",
    "\n",
    "formatted_text = textwrap.fill(completion.choices[0].message.content, width=80)\n",
    "print(formatted_text)\n"
   ]
  },
  {
   "cell_type": "markdown",
   "id": "45e720a8",
   "metadata": {},
   "source": [
    "### Responses"
   ]
  },
  {
   "cell_type": "code",
   "execution_count": 4,
   "id": "d9b86855",
   "metadata": {},
   "outputs": [
    {
     "name": "stdout",
     "output_type": "stream",
     "text": [
      "Un modelo subrogado es un enfoque en el que se utiliza un modelo alternativo\n",
      "para estimar o predecir el comportamiento de un sistema. En vez de trabajar con\n",
      "el sistema original, se emplea este modelo más simple o accesible, facilitando\n",
      "análisis, simulaciones o toma de decisiones sin los costos o complicaciones del\n",
      "sistema real.\n"
     ]
    }
   ],
   "source": [
    "from openai import OpenAI\n",
    "client = OpenAI()\n",
    "\n",
    "response = client.responses.create(\n",
    "    model=\"gpt-4o-mini-2024-07-18\",\n",
    "    input=\"Explica en 50 palabras que es un modelo subrogado\"\n",
    ")\n",
    "\n",
    "formatted_text = textwrap.fill(response.output_text, width=80)\n",
    "print(formatted_text)\n"
   ]
  },
  {
   "cell_type": "markdown",
   "id": "3b62298e-2181-4e73-bb40-77e20c655231",
   "metadata": {},
   "source": [
    "### 1: Utiliza delimitadores para indicar distintas partes del prompt\n",
    "\n",
    "Los delimitadores pueden ser cualquier caracter: ```, \"\"\", < >, `<tag> </tag>`, `:`"
   ]
  },
  {
   "cell_type": "code",
   "execution_count": 15,
   "id": "87121316",
   "metadata": {
    "height": 336,
    "tags": []
   },
   "outputs": [
    {
     "name": "stdout",
     "output_type": "stream",
     "text": [
      "Aquí tienes la lista de los personajes citados, ordenados por fecha de su muerte:\n",
      "\n",
      "1. **Craso** (53 a.C.)\n",
      "2. **Pompeyo** (48 a.C.)\n",
      "3. **Julio César** (44 a.C.)\n",
      "4. **Augusto** (14 d.C.)\n"
     ]
    }
   ],
   "source": [
    "texto = f\"\"\"\n",
    "Julio César (100 a.C. - 44 a.C.) fue un líder militar y político romano que jugó un papel clave\n",
    " en la caída de la República Romana y la ascensión del Imperio. Fue nombrado dictador perpetuo \n",
    " antes de su asesinato. Pompeyo (106 a.C. - 48 a.C.) fue un general romano y miembro del primer \n",
    " triunvirato. Conocido por sus victorias militares, su rivalidad con César acabó en guerra civil.\n",
    " Craso (115 a.C. - 53 a.C.) fue un rico patricio y general, también parte del primer triunvirato,\n",
    "conocido por su derrota en la batalla de Carras. Augusto (63 a.C. - 14 d.C.) fue el primer\n",
    "emperador de Roma, consolidando el Imperio después de la caída de la República, y \n",
    "promoviendo una era de paz conocida como Pax Romana.\n",
    "\"\"\"\n",
    "prompt = f\"\"\"\n",
    "Haz una lista de los personajes citados en el texto, ordenados por fecha de su muerte. \n",
    "```{texto}```\n",
    "\"\"\"\n",
    "response = client.responses.create(\n",
    "    model=\"gpt-4o-mini-2024-07-18\",\n",
    "    input=prompt\n",
    ")\n",
    "\n",
    "print(response.output_text)"
   ]
  },
  {
   "cell_type": "markdown",
   "id": "f2798f3d-7618-4ac5-a6b2-3c69c537903d",
   "metadata": {},
   "source": [
    "### 2: Pide una salida estructurada\n",
    "- JSON, HTML"
   ]
  },
  {
   "cell_type": "code",
   "execution_count": 20,
   "id": "6b50bbbd",
   "metadata": {
    "height": 149,
    "tags": []
   },
   "outputs": [
    {
     "name": "stdout",
     "output_type": "stream",
     "text": [
      "Aquí tienes tres artículos fundamentales sobre Inteligencia Artificial:\n",
      "\n",
      "1. **Título:** \"Computing Machinery and Intelligence\"  \n",
      "   **Autor:** Alan Turing  \n",
      "   **Fecha de Publicación:** 1950  \n",
      "   Este artículo es famoso por introducir el \"Test de Turing\", un criterio para determinar si una máquina puede exhibir un comportamiento inteligente indistinguible del de un ser humano.\n",
      "\n",
      "2. **Título:** \"Artificial Intelligence as a Positive and Negative Factor in Global Risk\"  \n",
      "   **Autor:** Nick Bostrom  \n",
      "   **Fecha de Publicación:** 2014  \n",
      "   Este trabajo analiza las implicaciones de la inteligencia artificial avanzada y los riesgos potenciales que puede representar, así como sus posibles beneficios.\n",
      "\n",
      "3. **Título:** \"Deep Learning\"  \n",
      "   **Autores:** Yann LeCun, Yoshua Bengio, y Geoffrey Hinton  \n",
      "   **Fecha de Publicación:** 2015  \n",
      "   Este artículo fue crucial para el renacimiento del aprendizaje profundo, describiendo sus aplicaciones y fundamentos teóricos, y sentando las bases de muchos avances recientes en inteligencia artificial.\n",
      "\n",
      "Estos artículos han tenido un impacto significativo en el desarrollo y la comprensión de la IA.\n"
     ]
    }
   ],
   "source": [
    "prompt = f\"\"\"\n",
    "Cuales son los tres articulos mas importantes sobre la Inteligencia Artificial, incluyendo Título, Autor y Fecha de Publicación.\n",
    "\"\"\"\n",
    "response = client.responses.create(\n",
    "    model=\"gpt-4o-mini-2024-07-18\",\n",
    "    input=prompt\n",
    ")\n",
    "\n",
    "print(response.output_text)"
   ]
  },
  {
   "cell_type": "markdown",
   "id": "22a71c4f-b1f1-4d67-ad5a-e49fc1e3147d",
   "metadata": {},
   "source": [
    "### 3: Especifica al modelo las condiciones que se han de cumplir"
   ]
  },
  {
   "cell_type": "code",
   "execution_count": 22,
   "id": "f0ae612e",
   "metadata": {
    "height": 521,
    "tags": []
   },
   "outputs": [
    {
     "name": "stdout",
     "output_type": "stream",
     "text": [
      "Paso 1 - Recolectar datos representativos del problema a resolver.  \n",
      "Paso 2 - Dividir los datos en tres conjuntos: entrenamiento, validación y prueba.  \n",
      "Paso 3 - Entrenar el modelo utilizando el conjunto de entrenamiento, ajustando sus parámetros para minimizar el error en las predicciones.  \n",
      "Paso 4 - Validar el rendimiento del modelo con el conjunto de validación para evitar el sobreajuste.  \n",
      "Paso 5 - Ajustar los hiperparámetros del modelo según los resultados de validación.  \n",
      "Paso 6 - Evaluar el modelo con el conjunto de prueba para medir su capacidad de generalización a nuevos datos.  \n",
      "Paso 7 - Repetir el proceso de ajuste si es necesario.  \n"
     ]
    }
   ],
   "source": [
    "text_1 = f\"\"\"\n",
    "El proceso de entrenamiento y validación de un modelo de aprendizaje automático comienza con la recolección \n",
    "de datos representativos del problema a resolver. Luego, los datos se dividen en tres conjuntos: \n",
    "entrenamiento, validación y prueba. El modelo se entrena utilizando el conjunto de entrenamiento, \n",
    "ajustando sus parámetros para minimizar el error en las predicciones. Durante este proceso, el \n",
    "rendimiento se valida con el conjunto de validación, lo que ayuda a evitar el sobreajuste. Los \n",
    "hiperparámetros del modelo se ajustan según los resultados de validación. Finalmente, el modelo \n",
    "se evalúa con el conjunto de prueba para medir su capacidad de generalización a nuevos datos. \n",
    "Si es necesario, se repite el proceso de ajuste.\n",
    "\"\"\"\n",
    "prompt = f\"\"\"\n",
    "Se te proporciona un texto entre << >>\n",
    "Contiene una secuencia de pasos,  \n",
    "reescribe los pasos en el siguiente formato:\n",
    "\n",
    "Paso 1 - ...\n",
    "Paso 2 - …\n",
    "…\n",
    "Paso N - …\n",
    "<<{text_1}>>\n",
    "\"\"\"\n",
    "\n",
    "response = client.responses.create(\n",
    "    model=\"gpt-4o-mini-2024-07-18\",\n",
    "    input=prompt\n",
    ")\n",
    "\n",
    "print(response.output_text)"
   ]
  },
  {
   "cell_type": "code",
   "execution_count": 24,
   "id": "76b6cc59",
   "metadata": {
    "height": 521,
    "tags": []
   },
   "outputs": [
    {
     "name": "stdout",
     "output_type": "stream",
     "text": [
      "No steps provided.\n"
     ]
    }
   ],
   "source": [
    "text_2 = f\"\"\"\n",
    "Ver un bonito amanecer es una experiencia que despierta los sentidos y el alma. Es como si el mundo se detuviera \n",
    "por un instante, ofreciendo una pausa entre la oscuridad de la noche y el bullicio del día. La luz que se filtra \n",
    "lentamente en el horizonte tiene una calidez suave, como un abrazo reconfortante, que poco a poco va bañando todo \n",
    "a su paso, transformando las sombras en formas y colores vibrantes. Los primeros rayos de sol pintan el cielo \n",
    "con tonos rosados, naranjas y dorados, creando una paleta de colores que parece sacada de un sueño. El aire fresco \n",
    "de la mañana, limpio y ligero, llena los pulmones, mientras los sonidos suaves de la naturaleza se mezclan con el \n",
    "despertar de las aves.\n",
    "\"\"\"\n",
    "prompt = f\"\"\"\n",
    "Se te proporciona un texto entre << >>\n",
    "Contiene una secuencia de pasos,  \n",
    "reescribe los pasos en el siguiente formato:\n",
    "\n",
    "Paso 1 - ...\n",
    "Paso 2 - …\n",
    "…\n",
    "Paso N - …\n",
    "\n",
    "<<{text_2}>>\n",
    "\"\"\"\n",
    "response = client.responses.create(\n",
    "    model=\"gpt-4o-mini-2024-07-18\",\n",
    "    input=prompt\n",
    ")\n",
    "\n",
    "print(response.output_text)"
   ]
  },
  {
   "cell_type": "markdown",
   "id": "3c5866b8-d8c7-4e19-93db-401315f64954",
   "metadata": {},
   "source": [
    "### 4: \"Few-shot\" prompting"
   ]
  },
  {
   "cell_type": "code",
   "execution_count": 27,
   "id": "82ce1540",
   "metadata": {
    "height": 266,
    "tags": []
   },
   "outputs": [
    {
     "name": "stdout",
     "output_type": "stream",
     "text": [
      "<grandparent>: The mighty oak stands tall despite the fiercest storms;  \n",
      "the delicate flower rises again after each frost;  \n",
      "the phoenix rises anew from its own ashes,  \n",
      "reminding us that strength is born from struggle.\n"
     ]
    }
   ],
   "source": [
    "prompt = f\"\"\"\n",
    "Your task is to answer in a consistent style.\n",
    "\n",
    "<child>: Teach me about patience.\n",
    "\n",
    "<grandparent>: The river that carves the deepest  \n",
    "valley flows from a modest spring; the  \n",
    "grandest symphony originates from a single note;  \n",
    "the most intricate tapestry begins with a solitary thread.\n",
    "\n",
    "<child>: Teach me about resilience.\n",
    "\"\"\"\n",
    "response = client.responses.create(\n",
    "    model=\"gpt-4o-mini-2024-07-18\",\n",
    "    input=prompt\n",
    ")\n",
    "\n",
    "print(response.output_text)"
   ]
  },
  {
   "cell_type": "markdown",
   "id": "ece7a8ee-1a2d-415d-8c10-500ecff24b10",
   "metadata": {},
   "source": [
    "### 5: Especificar la tarea paso a paso"
   ]
  },
  {
   "cell_type": "code",
   "execution_count": null,
   "id": "5e7d6860",
   "metadata": {
    "height": 521,
    "tags": []
   },
   "outputs": [
    {
     "name": "stdout",
     "output_type": "stream",
     "text": [
      "Jack and Jill, siblings from a charming village, embarked on a quest to fetch water but had a mishap when Jack fell down the hill, yet they returned home undeterred by their adventure. \n",
      "\n",
      "Jack et Jill, des frère et sœur d'un charmant village, se sont lancés dans une quête pour chercher de l'eau mais ont eu un accident lorsque Jack est tombé de la colline, pourtant ils sont rentrés chez eux sans se laisser décourager par leur aventure.\n",
      "\n",
      "1. Jack\n",
      "2. Jill\n",
      "\n",
      "```json\n",
      "{\n",
      "  \"french_summary\": \"Jack et Jill, des frère et sœur d'un charmant village, se sont lancés dans une quête pour chercher de l'eau mais ont eu un accident lorsque Jack est tombé de la colline, pourtant ils sont rentrés chez eux sans se laisser décourager par leur aventure.\",\n",
      "  \"num_names\": 2\n",
      "}\n",
      "```\n"
     ]
    }
   ],
   "source": [
    "text = f\"\"\"\n",
    "In a charming village, siblings Jack and Jill set out on  \n",
    "a quest to fetch water from a hilltop  \n",
    "well. As they climbed, singing joyfully, misfortune  \n",
    "struck—Jack tripped on a stone and tumbled  \n",
    "down the hill, with Jill following suit.  \n",
    "Though slightly battered, the pair returned home to  \n",
    "comforting embraces. Despite the mishap,  \n",
    "their adventurous spirits remained undimmed, and they  \n",
    "continued exploring with delight.\n",
    "\"\"\"\n",
    "# example 1\n",
    "prompt = f\"\"\"\n",
    "Perform the following actions: \n",
    "1 - Summarize the following text delimited by triple \n",
    "backticks with 1 sentence.\n",
    "2 - Translate the summary into French.\n",
    "3 - List each name in the French summary.\n",
    "4 - Output a json object that contains the following \n",
    "keys: french_summary, num_names.\n",
    "\n",
    "Separate your answers with line breaks.\n",
    "\n",
    "Text:\n",
    "```{text}```\n",
    "\"\"\"\n",
    "response = client.responses.create(\n",
    "    model=\"gpt-4o-mini-2024-07-18\",\n",
    "    input=prompt\n",
    ")\n",
    "\n",
    "print(response.output_text)"
   ]
  },
  {
   "cell_type": "markdown",
   "id": "d0bb1dcf-95f5-4ee1-8c25-8b2abd5f0f0d",
   "metadata": {},
   "source": [
    "### En un formato especificado"
   ]
  },
  {
   "cell_type": "code",
   "execution_count": 31,
   "id": "3e4222cc",
   "metadata": {
    "height": 370,
    "tags": []
   },
   "outputs": [
    {
     "name": "stdout",
     "output_type": "stream",
     "text": [
      "Summary: Siblings Jack and Jill go on a quest to fetch water, but after an accident on the hill, they return home safely and continue their adventures with joy.  \n",
      "Translation: Les frères et sœurs Jack et Jill partent en quête d'eau, mais après un accident sur la colline, ils rentrent chez eux sains et saufs et continuent leurs aventures avec joie.  \n",
      "Names: Jack, Jill  \n",
      "Output JSON: {\n",
      "  \"french_summary\": \"Les frères et sœurs Jack et Jill partent en quête d'eau, mais après un accident sur la colline, ils rentrent chez eux sains et saufs et continuent leurs aventures avec joie.\",\n",
      "  \"num_names\": 2\n",
      "}\n"
     ]
    }
   ],
   "source": [
    "prompt = f\"\"\"\n",
    "Your task is to perform the following actions: \n",
    "1 - Summarize the following text delimited by \n",
    "  <> with 1 sentence.\n",
    "2 - Translate the summary into French.\n",
    "3 - List each name in the French summary.\n",
    "4 - Output a json object that contains the \n",
    "  following keys: french_summary, num_names.\n",
    "\n",
    "Use the following format:\n",
    "Text: <text to summarize>\n",
    "Summary: <summary>\n",
    "Translation: <summary translation>\n",
    "Names: <list of names in summary>\n",
    "Output JSON: <json with summary and num_names>\n",
    "\n",
    "Text: <{text}>\n",
    "\"\"\"\n",
    "response = client.responses.create(\n",
    "    model=\"gpt-4o-mini-2024-07-18\",\n",
    "    input=prompt\n",
    ")\n",
    "\n",
    "print(response.output_text)"
   ]
  },
  {
   "cell_type": "markdown",
   "id": "8a207eab-a1b1-47a5-b913-fe38086123d0",
   "metadata": {},
   "source": [
    "### Limitaciones de los modelos: alucinaciones\n",
    "- Boie es una compañía real, pero el producto no existe."
   ]
  },
  {
   "cell_type": "code",
   "execution_count": 34,
   "id": "81c80919",
   "metadata": {
    "height": 113,
    "tags": []
   },
   "outputs": [
    {
     "name": "stdout",
     "output_type": "stream",
     "text": [
      "The AeroGlide UltraSlim Smart Toothbrush by Boie is designed to provide an advanced oral care experience. Here are some key features:\n",
      "\n",
      "1. **Slim Design**: It boasts an ultra-slim profile, making it easy to handle and maneuver while brushing.\n",
      "\n",
      "2. **Smart Technology**: Many smart toothbrushes offer features like tracking brushing habits, providing feedback through a companion app, and suggesting improvements for better dental hygiene.\n",
      "\n",
      "3. **Efficient Cleaning**: Equipped with soft bristles and a powerful motor, it provides effective cleaning while being gentle on gums.\n",
      "\n",
      "4. **Timer Function**: It typically includes a built-in timer to ensure users brush for the recommended two minutes.\n",
      "\n",
      "5. **Sustainability**: Boie is known for eco-friendly practices, often focusing on using sustainable materials in their products.\n",
      "\n",
      "6. **Replaceable Heads**: The toothbrush usually offers replaceable heads, reducing waste and extending the life of the handle.\n",
      "\n",
      "Overall, the AeroGlide UltraSlim Smart Toothbrush integrates modern technology with user-friendly design to enhance daily oral care.\n"
     ]
    }
   ],
   "source": [
    "prompt = f\"\"\"\n",
    "Tell me about AeroGlide UltraSlim Smart Toothbrush by Boie\n",
    "\"\"\"\n",
    "response = client.responses.create(\n",
    "    model=\"gpt-4o-mini-2024-07-18\",\n",
    "    input=prompt\n",
    ")\n",
    "\n",
    "print(response.output_text)"
   ]
  }
 ],
 "metadata": {
  "kernelspec": {
   "display_name": "deepl",
   "language": "python",
   "name": "python3"
  },
  "language_info": {
   "codemirror_mode": {
    "name": "ipython",
    "version": 3
   },
   "file_extension": ".py",
   "mimetype": "text/x-python",
   "name": "python",
   "nbconvert_exporter": "python",
   "pygments_lexer": "ipython3",
   "version": "3.13.2"
  }
 },
 "nbformat": 4,
 "nbformat_minor": 5
}
