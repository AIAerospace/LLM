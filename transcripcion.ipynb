{
 "cells": [
  {
   "cell_type": "markdown",
   "metadata": {},
   "source": [
    "# Whisper"
   ]
  },
  {
   "cell_type": "code",
   "execution_count": null,
   "metadata": {},
   "outputs": [],
   "source": [
    "import openai\n",
    "import os\n",
    "from openai import OpenAI\n",
    "import textwrap\n",
    "\n",
    "openai.api_key = os.getenv(\"OPENAI_API_KEY\")\n",
    "client = OpenAI()"
   ]
  },
  {
   "cell_type": "code",
   "execution_count": null,
   "metadata": {},
   "outputs": [
    {
     "name": "stdout",
     "output_type": "stream",
     "text": [
      "Transcripción:\n",
      "La inteligencia artificial generativa es un tipo de inteligencia artificial\n",
      "capaz de crear contenido nuevo y original, como textos, imágenes, música,\n",
      "vídeos, códigos y otros formatos, basándose en patrones aprendidos a partir de\n",
      "grandes cantidades de datos previamente analizados. ¿Cómo funciona? La IA\n",
      "generativa aprende a identificar patrones a partir de grandes volúmenes de\n",
      "datos, textos, imágenes, sonidos. Tras su entrenamiento, estos modelos pueden\n",
      "generar contenidos inéditos y únicos mediante la combinación y síntesis creativa\n",
      "de estos patrones aprendidos. Ejemplos comunes. Texto. ChatGPT, Gemini o\n",
      "DeepSeek generan textos o resúmenes, poemas, guiones, etc. Imágenes. Dalí,\n",
      "Stable Diffusion o Mid-Journey generan imágenes a partir de descripciones\n",
      "textuales. Audio. Modelos que generan música original, voces sintéticas o\n",
      "sonidos naturales. Vídeo. Creación automática de vídeos o animaciones realistas\n",
      "a partir de texto.\n",
      "\n",
      "Resumen:\n",
      "La inteligencia artificial generativa crea contenido original como textos,\n",
      "imágenes y música, aprendiendo patrones de grandes datos. Modelos como ChatGPT,\n",
      "DALL-E y otros generan contenidos únicos y creativos.\n"
     ]
    }
   ],
   "source": [
    "# Ruta del archivo de audio a transcribir\n",
    "audio_file_path = \"audio.mp3\"  # Reemplaza con la ruta a tu archivo de audio\n",
    "audio_file= open(audio_file_path, \"rb\")\n",
    "\n",
    "transcription = client.audio.transcriptions.create(\n",
    "    model=\"gpt-4o-transcribe\", \n",
    "    file=audio_file\n",
    ")\n",
    "\n",
    "# Extraer el texto transcrito\n",
    "formatted_text = textwrap.fill(transcription.text, width=80)\n",
    "print(\"Transcripción:\")\n",
    "print(formatted_text)\n",
    "\n",
    "\n",
    "# Crear un prompt para solicitar un resumen de la transcripción\n",
    "prompt = f\"Por favor, resume el siguiente texto en 30 palabras:\\n\\n{transcription.text}\"\n",
    "\n",
    "# Utilizar el modelo para generar el resumen\n",
    "\n",
    "response = client.responses.create(\n",
    "    model=\"gpt-4o-mini-2024-07-18\",\n",
    "    input=prompt\n",
    ")\n",
    "\n",
    "# Extraer y mostrar el resumen\n",
    "\n",
    "print(\"\\nResumen:\")\n",
    "\n",
    "formatted_text = textwrap.fill(response.output_text, width=80)\n",
    "print(formatted_text)"
   ]
  }
 ],
 "metadata": {
  "kernelspec": {
   "display_name": "deepl",
   "language": "python",
   "name": "python3"
  },
  "language_info": {
   "codemirror_mode": {
    "name": "ipython",
    "version": 3
   },
   "file_extension": ".py",
   "mimetype": "text/x-python",
   "name": "python",
   "nbconvert_exporter": "python",
   "pygments_lexer": "ipython3",
   "version": "3.13.2"
  }
 },
 "nbformat": 4,
 "nbformat_minor": 2
}
