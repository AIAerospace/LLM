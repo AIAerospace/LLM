{
 "cells": [
  {
   "cell_type": "markdown",
   "metadata": {},
   "source": [
    "# Local Server con LLM Studio"
   ]
  },
  {
   "cell_type": "code",
   "execution_count": 8,
   "metadata": {},
   "outputs": [
    {
     "name": "stdout",
     "output_type": "stream",
     "text": [
      "I am a person who knows how to make you laugh,  And I can change the mood with\n",
      "my jokes and sing,  You see me, oh! A happy little guy, oh!\n"
     ]
    }
   ],
   "source": [
    "# Example: reuse your existing OpenAI setup\n",
    "from openai import OpenAI\n",
    "import textwrap\n",
    "\n",
    "# Point to the local server\n",
    "client = OpenAI(base_url=\"http://localhost:1234/v1\", api_key=\"lm-studio\")\n",
    "\n",
    "completion = client.chat.completions.create(\n",
    "  model=\"qwen2-0.5b-instruct\",\n",
    "  messages=[\n",
    "    {\"role\": \"system\", \"content\": \"Always answer in rhymes.\"},\n",
    "    {\"role\": \"user\", \"content\": \"Introduce yourself.\"}\n",
    "  ],\n",
    "  temperature=0.7,\n",
    ")\n",
    "\n",
    "\n",
    "formatted_text = textwrap.fill(completion.choices[0].message.content, width=80)\n",
    "print(formatted_text)\n"
   ]
  },
  {
   "cell_type": "code",
   "execution_count": 11,
   "metadata": {},
   "outputs": [
    {
     "name": "stdout",
     "output_type": "stream",
     "text": [
      "Hi! I'm sorry, but I don't have any information on \"AeroGlide UltraSlim Smart\n",
      "Toothbrush\" by Boie. It's possible that this product is not available or may be\n",
      "a brand name for another product. Could you please provide some more details? If\n",
      "it's related to dental products, the term \"toothbrush\" usually refers to an\n",
      "electric toothbrush, and the specific features of AeroGlide UltraSlim Smart\n",
      "Toothbrush may include features like vibration massage, LED light display, etc.\n",
      "Please let me know if there are any other questions you have regarding this\n",
      "product or any other items related to dental products.\n"
     ]
    }
   ],
   "source": [
    "prompt = f\"\"\"\n",
    "Tell me about AeroGlide UltraSlim Smart Toothbrush by Boie\n",
    "\"\"\"\n",
    "\n",
    "completion = client.chat.completions.create(\n",
    "  model=\"qwen2-0.5b-instruct\",\n",
    "  messages=[\n",
    "    {\"role\": \"system\", \"content\": \"Be nice\"},\n",
    "    {\"role\": \"user\", \"content\": prompt}\n",
    "  ],\n",
    "  temperature=0.7,\n",
    ")\n",
    "\n",
    "formatted_text = textwrap.fill(completion.choices[0].message.content, width=80)\n",
    "print(formatted_text)\n"
   ]
  }
 ],
 "metadata": {
  "kernelspec": {
   "display_name": "deepl",
   "language": "python",
   "name": "python3"
  },
  "language_info": {
   "codemirror_mode": {
    "name": "ipython",
    "version": 3
   },
   "file_extension": ".py",
   "mimetype": "text/x-python",
   "name": "python",
   "nbconvert_exporter": "python",
   "pygments_lexer": "ipython3",
   "version": "3.13.2"
  }
 },
 "nbformat": 4,
 "nbformat_minor": 2
}
